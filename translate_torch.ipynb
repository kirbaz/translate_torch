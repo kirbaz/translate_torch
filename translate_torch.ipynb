{
 "cells": [
  {
   "cell_type": "code",
   "execution_count": 9,
   "id": "fba81ad5",
   "metadata": {},
   "outputs": [],
   "source": [
    "import numpy as np\n",
    "import pandas as pd\n",
    "import matplotlib.pyplot as plt\n",
    "import seaborn as sns\n",
    "from IPython.display import clear_output\n",
    "from IPython.utils import io\n",
    "import torch\n",
    "from torch import optim\n",
    "import torch.nn as nn\n",
    "from torch.nn import functional as F\n",
    "import random\n",
    "\n",
    "from transformers import AdamW, AutoModel, AutoTokenizer, get_linear_schedule_with_warmup\n",
    "from tqdm import tqdm\n",
    "\n",
    "from transformers.models.mt5 import MT5Config, MT5ForConditionalGeneration\n",
    "\n",
    "sns.set()"
   ]
  },
  {
   "cell_type": "code",
   "execution_count": null,
   "id": "ed418dbe",
   "metadata": {},
   "outputs": [],
   "source": []
  },
  {
   "cell_type": "code",
   "execution_count": null,
   "id": "2d87a346",
   "metadata": {},
   "outputs": [],
   "source": []
  },
  {
   "cell_type": "code",
   "execution_count": 9,
   "id": "7952f98d",
   "metadata": {},
   "outputs": [
    {
     "name": "stderr",
     "output_type": "stream",
     "text": [
      "d:\\ProgramData\\anaconda3\\venv_test\\Lib\\site-packages\\huggingface_hub\\file_download.py:1132: FutureWarning: `resume_download` is deprecated and will be removed in version 1.0.0. Downloads always resume when possible. If you want to force a new download, use `force_download=True`.\n",
      "  warnings.warn(\n"
     ]
    }
   ],
   "source": [
    "# model_repo = 'google/mt5-base'\n",
    "\n",
    "# config = MT5Config.from_pretrained(model_repo)"
   ]
  },
  {
   "cell_type": "code",
   "execution_count": 2,
   "id": "f7cb898a",
   "metadata": {},
   "outputs": [],
   "source": [
    "# config.max_length = 40\n"
   ]
  },
  {
   "cell_type": "code",
   "execution_count": 11,
   "id": "f792b482",
   "metadata": {},
   "outputs": [
    {
     "name": "stderr",
     "output_type": "stream",
     "text": [
      "You are using the default legacy behaviour of the <class 'transformers.models.t5.tokenization_t5.T5Tokenizer'>. This is expected, and simply means that the `legacy` (previous) behavior will be used so nothing changes for you. If you want to use the new behaviour, set `legacy=False`. This should only be set if you understand what it means, and thoroughly read the reason why this was added as explained in https://github.com/huggingface/transformers/pull/24565\n",
      "d:\\ProgramData\\anaconda3\\venv_test\\Lib\\site-packages\\transformers\\convert_slow_tokenizer.py:560: UserWarning: The sentencepiece tokenizer that you are converting to a fast tokenizer uses the byte fallback option which is not implemented in the fast tokenizers. In practice this means that the fast version of the tokenizer can produce unknown tokens whereas the sentencepiece version would have converted these unknown tokens into a sequence of byte tokens matching the original piece of text.\n",
      "  warnings.warn(\n"
     ]
    }
   ],
   "source": [
    "# tokenizer = AutoTokenizer.from_pretrained(model_repo)"
   ]
  },
  {
   "cell_type": "code",
   "execution_count": 12,
   "id": "f6a18c05",
   "metadata": {},
   "outputs": [],
   "source": []
  },
  {
   "cell_type": "code",
   "execution_count": 23,
   "id": "79b73355",
   "metadata": {},
   "outputs": [
    {
     "data": {
      "text/plain": [
       "('d:\\\\pyproj\\\\models\\\\mt5\\\\tokenizer\\\\tokenizer_config.json',\n",
       " 'd:\\\\pyproj\\\\models\\\\mt5\\\\tokenizer\\\\special_tokens_map.json',\n",
       " 'd:\\\\pyproj\\\\models\\\\mt5\\\\tokenizer\\\\spiece.model',\n",
       " 'd:\\\\pyproj\\\\models\\\\mt5\\\\tokenizer\\\\added_tokens.json',\n",
       " 'd:\\\\pyproj\\\\models\\\\mt5\\\\tokenizer\\\\tokenizer.json')"
      ]
     },
     "execution_count": 23,
     "metadata": {},
     "output_type": "execute_result"
    }
   ],
   "source": [
    "# model.save_pretrained(\"d:\\pyproj\\models\\mt5\\model\")\n",
    "# tokenizer.save_pretrained('d:\\\\pyproj\\\\models\\\\mt5\\\\tokenizer')"
   ]
  },
  {
   "cell_type": "code",
   "execution_count": 11,
   "id": "d7e8f5e9",
   "metadata": {},
   "outputs": [
    {
     "name": "stderr",
     "output_type": "stream",
     "text": [
      "You set `add_prefix_space`. The tokenizer needs to be converted from the slow tokenizers\n",
      "C:\\Users\\ezimo\\AppData\\Roaming\\Python\\Python311\\site-packages\\transformers\\convert_slow_tokenizer.py:560: UserWarning: The sentencepiece tokenizer that you are converting to a fast tokenizer uses the byte fallback option which is not implemented in the fast tokenizers. In practice this means that the fast version of the tokenizer can produce unknown tokens whereas the sentencepiece version would have converted these unknown tokens into a sequence of byte tokens matching the original piece of text.\n",
      "  warnings.warn(\n"
     ]
    }
   ],
   "source": [
    "model_path = \"d:\\\\pyproj\\\\models\\\\mt5\\\\model\"\n",
    "tokenizer_path = 'd:\\\\pyproj\\\\models\\\\mt5\\\\tokenizer'\n",
    "max_seq_len = 40\n",
    "model = MT5ForConditionalGeneration.from_pretrained(model_path)\n",
    "\n",
    "\n",
    "tokenizer = AutoTokenizer.from_pretrained(tokenizer_path)\n",
    "\n",
    "# model = MT5ForConditionalGeneration.from_pretrained(model_repo)\n",
    "model = model.cuda()"
   ]
  },
  {
   "cell_type": "code",
   "execution_count": 3,
   "id": "0c21d28c",
   "metadata": {},
   "outputs": [
    {
     "name": "stdout",
     "output_type": "stream",
     "text": [
      "tensor([[  3771, 136092,   5436, 100783,   1436,      1,      0,      0,      0,\n",
      "              0,      0,      0,      0,      0,      0,      0,      0,      0,\n",
      "              0,      0,      0,      0,      0,      0,      0,      0,      0,\n",
      "              0,      0,      0,      0,      0,      0,      0,      0,      0,\n",
      "              0,      0,      0,      0]])\n",
      "['▁То', 'кени', 'зи', 'руй', '▁это', '</s>', '<pad>', '<pad>', '<pad>', '<pad>', '<pad>', '<pad>', '<pad>', '<pad>', '<pad>', '<pad>', '<pad>', '<pad>', '<pad>', '<pad>', '<pad>', '<pad>', '<pad>', '<pad>', '<pad>', '<pad>', '<pad>', '<pad>', '<pad>', '<pad>', '<pad>', '<pad>', '<pad>', '<pad>', '<pad>', '<pad>', '<pad>', '<pad>', '<pad>', '<pad>']\n",
      "40\n"
     ]
    }
   ],
   "source": [
    "input_test = tokenizer.encode('Токенизируй это',\n",
    "                             return_tensors='pt',\n",
    "                             padding='max_length',\n",
    "                             truncation=True,\n",
    "                             max_length=max_seq_len)\n",
    "print(input_test)\n",
    "tokens = tokenizer.convert_ids_to_tokens(input_test[0])\n",
    "print(tokens)\n",
    "print(len(tokens))"
   ]
  },
  {
   "cell_type": "code",
   "execution_count": 12,
   "id": "55caf1a8",
   "metadata": {},
   "outputs": [
    {
     "data": {
      "text/plain": [
       "Embedding(250102, 768)"
      ]
     },
     "execution_count": 12,
     "metadata": {},
     "output_type": "execute_result"
    }
   ],
   "source": [
    "LANG_TOKEN_MAPPING = {\n",
    "    'ru': '<ru>',\n",
    "    'mn': '<mn>'\n",
    "}\n",
    "\n",
    "special_tokens_dict = {'additional_special_tokens': list(LANG_TOKEN_MAPPING.values())}\n",
    "\n",
    "tokenizer.add_special_tokens(special_tokens_dict)\n",
    "\n",
    "model.resize_token_embeddings(len(tokenizer))"
   ]
  },
  {
   "cell_type": "code",
   "execution_count": 11,
   "id": "8b248fe7",
   "metadata": {},
   "outputs": [
    {
     "data": {
      "text/plain": [
       "Embedding(250102, 768)"
      ]
     },
     "execution_count": 11,
     "metadata": {},
     "output_type": "execute_result"
    }
   ],
   "source": [
    "# special_tokens_dict = {'additional_special_tokens': list(LANG_TOKEN_MAPPING.values())}\n",
    "\n",
    "# tokenizer.add_special_tokens(special_tokens_dict)\n",
    "\n",
    "# model.resize_token_embeddings(len(tokenizer))"
   ]
  },
  {
   "cell_type": "code",
   "execution_count": 5,
   "id": "f5957f51",
   "metadata": {},
   "outputs": [
    {
     "data": {
      "text/plain": [
       "array(['ru', 'mn'], dtype='<U2')"
      ]
     },
     "execution_count": 5,
     "metadata": {},
     "output_type": "execute_result"
    }
   ],
   "source": [
    "np.random.choice(list(LANG_TOKEN_MAPPING.keys()), size=2, replace=False)"
   ]
  },
  {
   "cell_type": "code",
   "execution_count": 12,
   "id": "c502023b",
   "metadata": {},
   "outputs": [],
   "source": [
    "def encode_input_str(text, target_lang, tokenizer, seq_len, lang_token_map=LANG_TOKEN_MAPPING):\n",
    "    \n",
    "    target_lang_token = lang_token_map[target_lang]\n",
    "    \n",
    "    input_ids = tokenizer.encode(\n",
    "        text = target_lang_token + text,\n",
    "        return_tensors = 'pt',\n",
    "        padding = 'max_length',\n",
    "        truncation = True,\n",
    "        max_length = seq_len\n",
    "        )\n",
    "    \n",
    "    return input_ids[0]\n",
    "\n",
    "def encode_target_str(text, tokenizer, seq_len):\n",
    "    \n",
    "    input_ids = tokenizer.encode(\n",
    "        text = text,\n",
    "        return_tensors = 'pt',\n",
    "        padding = 'max_length',\n",
    "        truncation = True,\n",
    "        max_length = seq_len\n",
    "        )\n",
    "    \n",
    "    return input_ids[0]\n",
    "\n",
    "def format_translation_data(translations, lang_token_map, tokenizer, seq_len=128):\n",
    "    \n",
    "    langs = list(lang_token_map.keys())\n",
    "    input_lang, target_lang = np.random.choice(langs, size=2, replace=False)\n",
    "    \n",
    "    input_text = translations[input_lang]\n",
    "    target_text = translations[target_lang]\n",
    "    \n",
    "#     print(input_lang, input_text)\n",
    "#     print(target_lang, target_text)\n",
    "    \n",
    "    if input_text is None or target_text is None:\n",
    "        return None\n",
    "    \n",
    "    input_token_ids = encode_input_str(input_text, target_lang, tokenizer, seq_len, lang_token_map)\n",
    "    target_token_ids = encode_target_str(target_text, tokenizer, seq_len)\n",
    "    \n",
    "    return input_token_ids, target_token_ids\n",
    "\n",
    "def transform_batch(batch, lang_token_map, tokenizer):\n",
    "    inputs = []\n",
    "    targets = []\n",
    "    \n",
    "    for translation_set in batch:\n",
    "        formatted_data = format_translation_data(translation_set, lang_token_map, tokenizer, max_seq_len)\n",
    "        \n",
    "#         print(formatted_data)\n",
    "        \n",
    "        if formatted_data is None:\n",
    "            continue\n",
    "        \n",
    "        input_ids, target_ids = formatted_data\n",
    "        inputs.append(input_ids.unsqueeze(0))\n",
    "        targets.append(target_ids.unsqueeze(0))\n",
    "    \n",
    "    batch_input_ids = torch.cat(inputs).cuda()\n",
    "    batch_target_ids = torch.cat(targets).cuda()\n",
    "    \n",
    "    return batch_input_ids, batch_target_ids\n",
    "\n",
    "def get_data(dataset, lang_token_map, tokenizer, batch_size=32):\n",
    "    np.random.shuffle(dataset)\n",
    "    for i in range(0, len(dataset), batch_size):\n",
    "        raw_batch = dataset[i:i+batch_size]\n",
    "        \n",
    "        yield(transform_batch(raw_batch, lang_token_map, tokenizer))"
   ]
  },
  {
   "cell_type": "code",
   "execution_count": null,
   "id": "cfd1b7c3",
   "metadata": {},
   "outputs": [],
   "source": []
  },
  {
   "cell_type": "code",
   "execution_count": 14,
   "id": "e193a8a4",
   "metadata": {},
   "outputs": [],
   "source": [
    "import pandas as pd\n",
    "import random\n",
    "# from translate.storage.tmx import tmxfile\n",
    "from easygoogletranslate import EasyGoogleTranslate"
   ]
  },
  {
   "cell_type": "code",
   "execution_count": 15,
   "id": "eec0b001",
   "metadata": {},
   "outputs": [
    {
     "data": {
      "text/html": [
       "<div>\n",
       "<style scoped>\n",
       "    .dataframe tbody tr th:only-of-type {\n",
       "        vertical-align: middle;\n",
       "    }\n",
       "\n",
       "    .dataframe tbody tr th {\n",
       "        vertical-align: top;\n",
       "    }\n",
       "\n",
       "    .dataframe thead th {\n",
       "        text-align: right;\n",
       "    }\n",
       "</style>\n",
       "<table border=\"1\" class=\"dataframe\">\n",
       "  <thead>\n",
       "    <tr style=\"text-align: right;\">\n",
       "      <th></th>\n",
       "      <th>ru</th>\n",
       "      <th>mn</th>\n",
       "    </tr>\n",
       "  </thead>\n",
       "  <tbody>\n",
       "    <tr>\n",
       "      <th>0</th>\n",
       "      <td>Один раз в жизни я делаю хорошее дело... И оно...</td>\n",
       "      <td>Амьдралдаа нэг удаа буян хийдэг... Тэгээд дэми...</td>\n",
       "    </tr>\n",
       "    <tr>\n",
       "      <th>1</th>\n",
       "      <td>Давайте что-нибудь попробуем!</td>\n",
       "      <td>Ямар нэг зүйл туршиж үзье!</td>\n",
       "    </tr>\n",
       "    <tr>\n",
       "      <th>2</th>\n",
       "      <td>Давайте что-нибудь попробуем.</td>\n",
       "      <td>Ямар нэг юм оролдоод үзье.</td>\n",
       "    </tr>\n",
       "    <tr>\n",
       "      <th>3</th>\n",
       "      <td>Мне пора идти спать.</td>\n",
       "      <td>Миний унтах цаг боллоо.</td>\n",
       "    </tr>\n",
       "    <tr>\n",
       "      <th>4</th>\n",
       "      <td>Мне нужно идти спать.</td>\n",
       "      <td>Би орондоо орох ёстой.</td>\n",
       "    </tr>\n",
       "  </tbody>\n",
       "</table>\n",
       "</div>"
      ],
      "text/plain": [
       "                                                  ru  \\\n",
       "0  Один раз в жизни я делаю хорошее дело... И оно...   \n",
       "1                     Давайте что-нибудь попробуем!    \n",
       "2                     Давайте что-нибудь попробуем.    \n",
       "3                              Мне пора идти спать.    \n",
       "4                             Мне нужно идти спать.    \n",
       "\n",
       "                                                  mn  \n",
       "0  Амьдралдаа нэг удаа буян хийдэг... Тэгээд дэми...  \n",
       "1                         Ямар нэг зүйл туршиж үзье!  \n",
       "2                         Ямар нэг юм оролдоод үзье.  \n",
       "3                            Миний унтах цаг боллоо.  \n",
       "4                             Би орондоо орох ёстой.  "
      ]
     },
     "execution_count": 15,
     "metadata": {},
     "output_type": "execute_result"
    }
   ],
   "source": [
    "df_total = pd.read_csv(r'd:\\pyproj\\models\\mt5\\mn_ru.csv')\n",
    "df_total.head()"
   ]
  },
  {
   "cell_type": "code",
   "execution_count": 16,
   "id": "f6850812-6a1c-4729-a365-0c10a3900999",
   "metadata": {},
   "outputs": [
    {
     "data": {
      "text/plain": [
       "(82920, 2)"
      ]
     },
     "execution_count": 16,
     "metadata": {},
     "output_type": "execute_result"
    }
   ],
   "source": [
    "df_total.shape"
   ]
  },
  {
   "cell_type": "code",
   "execution_count": 17,
   "id": "5c448020",
   "metadata": {},
   "outputs": [],
   "source": [
    "dataset = []\n",
    "\n",
    "for i in range(len(df_total)):\n",
    "    dataset.append({'mn': df_total.loc[i]['mn'], 'ru': df_total.loc[i]['ru']})\n",
    "\n",
    "train_dataset = dataset[:82000]\n",
    "test_dataset = dataset[82000:]"
   ]
  },
  {
   "cell_type": "code",
   "execution_count": 18,
   "id": "b938f0e0",
   "metadata": {},
   "outputs": [
    {
     "data": {
      "text/plain": [
       "[{'mn': 'Амьдралдаа нэг удаа буян хийдэг... Тэгээд дэмий юм.',\n",
       "  'ru': 'Один раз в жизни я делаю хорошее дело... И оно бесполезно. '},\n",
       " {'mn': 'Ямар нэг зүйл туршиж үзье!', 'ru': 'Давайте что-нибудь попробуем! '},\n",
       " {'mn': 'Ямар нэг юм оролдоод үзье.', 'ru': 'Давайте что-нибудь попробуем. '},\n",
       " {'mn': 'Миний унтах цаг боллоо.', 'ru': 'Мне пора идти спать. '},\n",
       " {'mn': 'Би орондоо орох ёстой.', 'ru': 'Мне нужно идти спать. '}]"
      ]
     },
     "execution_count": 18,
     "metadata": {},
     "output_type": "execute_result"
    }
   ],
   "source": [
    "dataset[:5]"
   ]
  },
  {
   "cell_type": "code",
   "execution_count": 19,
   "id": "5b44bb7f",
   "metadata": {},
   "outputs": [
    {
     "data": {
      "text/plain": [
       "82920"
      ]
     },
     "execution_count": 19,
     "metadata": {},
     "output_type": "execute_result"
    }
   ],
   "source": [
    "len(dataset)"
   ]
  },
  {
   "cell_type": "code",
   "execution_count": null,
   "id": "fe7ca2b1",
   "metadata": {},
   "outputs": [],
   "source": []
  },
  {
   "cell_type": "code",
   "execution_count": 11,
   "id": "9d6987c5",
   "metadata": {},
   "outputs": [],
   "source": []
  },
  {
   "cell_type": "code",
   "execution_count": null,
   "id": "6af2ea85",
   "metadata": {},
   "outputs": [],
   "source": []
  },
  {
   "cell_type": "code",
   "execution_count": 20,
   "id": "6a0c6c6f",
   "metadata": {},
   "outputs": [
    {
     "name": "stdout",
     "output_type": "stream",
     "text": [
      "35296\n"
     ]
    },
    {
     "data": {
      "text/plain": [
       "{'mn': 'Бид дээш гарах тусам хүйтрэх болно.',\n",
       " 'ru': 'Чем выше мы поднимаемся, тем холоднее становится. '}"
      ]
     },
     "execution_count": 20,
     "metadata": {},
     "output_type": "execute_result"
    }
   ],
   "source": [
    "k = random.randint(0, 50020)\n",
    "print(k)\n",
    "dataset[k]"
   ]
  },
  {
   "cell_type": "code",
   "execution_count": null,
   "id": "6b80a4a7",
   "metadata": {},
   "outputs": [],
   "source": [
    "# Train"
   ]
  },
  {
   "cell_type": "code",
   "execution_count": 21,
   "id": "8789e5db",
   "metadata": {},
   "outputs": [
    {
     "name": "stdout",
     "output_type": "stream",
     "text": [
      "n_batches 4100\n",
      "total_steps 12300\n",
      "n_warmup_steps 123\n"
     ]
    }
   ],
   "source": [
    "n_epochs = 3\n",
    "batch_size = 20\n",
    "print_freq = 100\n",
    "\n",
    "lr = 5e-4\n",
    "\n",
    "checkpoint_freq = 1000\n",
    "\n",
    "n_batches = int(np.ceil(len(train_dataset) / batch_size))\n",
    "total_steps = n_epochs * n_batches\n",
    "n_warmup_steps = int(total_steps * 0.01)\n",
    "\n",
    "print(\"n_batches\", n_batches)\n",
    "print(\"total_steps\", total_steps)\n",
    "print(\"n_warmup_steps\", n_warmup_steps)"
   ]
  },
  {
   "cell_type": "code",
   "execution_count": 22,
   "id": "8bccd67c",
   "metadata": {},
   "outputs": [
    {
     "name": "stderr",
     "output_type": "stream",
     "text": [
      "C:\\Users\\ezimo\\AppData\\Roaming\\Python\\Python311\\site-packages\\transformers\\optimization.py:588: FutureWarning: This implementation of AdamW is deprecated and will be removed in a future version. Use the PyTorch implementation torch.optim.AdamW instead, or set `no_deprecation_warning=True` to disable this warning\n",
      "  warnings.warn(\n"
     ]
    }
   ],
   "source": [
    "optimizer = AdamW(model.parameters(), lr=lr)\n",
    "scheduler = get_linear_schedule_with_warmup(optimizer, n_warmup_steps, total_steps)\n",
    "\n",
    "losses = []\n",
    "test_losses = []"
   ]
  },
  {
   "cell_type": "code",
   "execution_count": 23,
   "id": "6dff6655",
   "metadata": {},
   "outputs": [],
   "source": [
    "def eval_model(model, dataset, max_iters=8):\n",
    "    test_generator = get_data(dataset, LANG_TOKEN_MAPPING, tokenizer, batch_size)\n",
    "    eval_losses = []\n",
    "    with torch.no_grad():\n",
    "        for i, (input_batch, label_batch) in enumerate(test_generator):\n",
    "            if i >= max_iters:\n",
    "                break\n",
    "            \n",
    "            model_out = model.forward(input_ids = input_batch, labels = label_batch)\n",
    "            eval_losses.append(model_out.loss.item())\n",
    "\n",
    "    return np.mean(eval_losses)"
   ]
  },
  {
   "cell_type": "code",
   "execution_count": 24,
   "id": "99500f02",
   "metadata": {},
   "outputs": [],
   "source": [
    "best_test_loss = float('inf')"
   ]
  },
  {
   "cell_type": "code",
   "execution_count": 25,
   "id": "188d1ef2",
   "metadata": {
    "scrolled": true
   },
   "outputs": [
    {
     "name": "stderr",
     "output_type": "stream",
     "text": [
      "  2%|█▉                                                                           | 100/4100 [02:24<1:37:06,  1.46s/it]"
     ]
    },
    {
     "name": "stdout",
     "output_type": "stream",
     "text": [
      "Epoch: 1 | Step: 100 | Avg. loss: 14.084 | lr: 0.000407\n"
     ]
    },
    {
     "name": "stderr",
     "output_type": "stream",
     "text": [
      "  5%|███▊                                                                         | 200/4100 [04:49<1:33:36,  1.44s/it]"
     ]
    },
    {
     "name": "stdout",
     "output_type": "stream",
     "text": [
      "Epoch: 1 | Step: 200 | Avg. loss: 1.774 | lr: 0.000497\n"
     ]
    },
    {
     "name": "stderr",
     "output_type": "stream",
     "text": [
      "  7%|█████▋                                                                       | 300/4100 [07:15<1:33:17,  1.47s/it]"
     ]
    },
    {
     "name": "stdout",
     "output_type": "stream",
     "text": [
      "Epoch: 1 | Step: 300 | Avg. loss: 1.358 | lr: 0.000493\n"
     ]
    },
    {
     "name": "stderr",
     "output_type": "stream",
     "text": [
      " 10%|███████▌                                                                     | 400/4100 [09:39<1:30:17,  1.46s/it]"
     ]
    },
    {
     "name": "stdout",
     "output_type": "stream",
     "text": [
      "Epoch: 1 | Step: 400 | Avg. loss: 1.168 | lr: 0.000489\n"
     ]
    },
    {
     "name": "stderr",
     "output_type": "stream",
     "text": [
      " 12%|█████████▍                                                                   | 500/4100 [12:05<1:27:37,  1.46s/it]"
     ]
    },
    {
     "name": "stdout",
     "output_type": "stream",
     "text": [
      "Epoch: 1 | Step: 500 | Avg. loss: 1.087 | lr: 0.000485\n"
     ]
    },
    {
     "name": "stderr",
     "output_type": "stream",
     "text": [
      " 15%|███████████▎                                                                 | 600/4100 [14:30<1:26:13,  1.48s/it]"
     ]
    },
    {
     "name": "stdout",
     "output_type": "stream",
     "text": [
      "Epoch: 1 | Step: 600 | Avg. loss: 1.007 | lr: 0.000480\n"
     ]
    },
    {
     "name": "stderr",
     "output_type": "stream",
     "text": [
      " 17%|█████████████▏                                                               | 700/4100 [16:55<1:23:22,  1.47s/it]"
     ]
    },
    {
     "name": "stdout",
     "output_type": "stream",
     "text": [
      "Epoch: 1 | Step: 700 | Avg. loss: 0.959 | lr: 0.000476\n"
     ]
    },
    {
     "name": "stderr",
     "output_type": "stream",
     "text": [
      " 20%|███████████████                                                              | 800/4100 [19:20<1:20:20,  1.46s/it]"
     ]
    },
    {
     "name": "stdout",
     "output_type": "stream",
     "text": [
      "Epoch: 1 | Step: 800 | Avg. loss: 0.908 | lr: 0.000472\n"
     ]
    },
    {
     "name": "stderr",
     "output_type": "stream",
     "text": [
      " 22%|████████████████▉                                                            | 900/4100 [21:46<1:17:59,  1.46s/it]"
     ]
    },
    {
     "name": "stdout",
     "output_type": "stream",
     "text": [
      "Epoch: 1 | Step: 900 | Avg. loss: 0.880 | lr: 0.000468\n"
     ]
    },
    {
     "name": "stderr",
     "output_type": "stream",
     "text": [
      " 24%|██████████████████▊                                                          | 999/4100 [24:09<1:13:45,  1.43s/it]"
     ]
    },
    {
     "name": "stdout",
     "output_type": "stream",
     "text": [
      "Epoch: 1 | Step: 1000 | Avg. loss: 0.826 | lr: 0.000464\n",
      "Test loss 0.734\n",
      "Saving model with test loss of 0.734\n"
     ]
    },
    {
     "name": "stderr",
     "output_type": "stream",
     "text": [
      " 27%|████████████████████▍                                                       | 1100/4100 [26:46<1:16:01,  1.52s/it]"
     ]
    },
    {
     "name": "stdout",
     "output_type": "stream",
     "text": [
      "Epoch: 1 | Step: 1100 | Avg. loss: 0.804 | lr: 0.000460\n"
     ]
    },
    {
     "name": "stderr",
     "output_type": "stream",
     "text": [
      " 29%|██████████████████████▏                                                     | 1200/4100 [29:16<1:13:22,  1.52s/it]"
     ]
    },
    {
     "name": "stdout",
     "output_type": "stream",
     "text": [
      "Epoch: 1 | Step: 1200 | Avg. loss: 0.754 | lr: 0.000456\n"
     ]
    },
    {
     "name": "stderr",
     "output_type": "stream",
     "text": [
      " 32%|████████████████████████                                                    | 1300/4100 [31:47<1:10:34,  1.51s/it]"
     ]
    },
    {
     "name": "stdout",
     "output_type": "stream",
     "text": [
      "Epoch: 1 | Step: 1300 | Avg. loss: 0.743 | lr: 0.000452\n"
     ]
    },
    {
     "name": "stderr",
     "output_type": "stream",
     "text": [
      " 34%|█████████████████████████▉                                                  | 1400/4100 [34:17<1:08:08,  1.51s/it]"
     ]
    },
    {
     "name": "stdout",
     "output_type": "stream",
     "text": [
      "Epoch: 1 | Step: 1400 | Avg. loss: 0.719 | lr: 0.000448\n"
     ]
    },
    {
     "name": "stderr",
     "output_type": "stream",
     "text": [
      " 37%|███████████████████████████▊                                                | 1500/4100 [36:48<1:05:50,  1.52s/it]"
     ]
    },
    {
     "name": "stdout",
     "output_type": "stream",
     "text": [
      "Epoch: 1 | Step: 1500 | Avg. loss: 0.694 | lr: 0.000443\n"
     ]
    },
    {
     "name": "stderr",
     "output_type": "stream",
     "text": [
      " 39%|█████████████████████████████▋                                              | 1600/4100 [39:18<1:03:08,  1.52s/it]"
     ]
    },
    {
     "name": "stdout",
     "output_type": "stream",
     "text": [
      "Epoch: 1 | Step: 1600 | Avg. loss: 0.660 | lr: 0.000439\n"
     ]
    },
    {
     "name": "stderr",
     "output_type": "stream",
     "text": [
      " 41%|███████████████████████████████▌                                            | 1700/4100 [41:48<1:00:52,  1.52s/it]"
     ]
    },
    {
     "name": "stdout",
     "output_type": "stream",
     "text": [
      "Epoch: 1 | Step: 1700 | Avg. loss: 0.661 | lr: 0.000435\n"
     ]
    },
    {
     "name": "stderr",
     "output_type": "stream",
     "text": [
      " 44%|██████████████████████████████████▏                                           | 1800/4100 [44:18<57:49,  1.51s/it]"
     ]
    },
    {
     "name": "stdout",
     "output_type": "stream",
     "text": [
      "Epoch: 1 | Step: 1800 | Avg. loss: 0.630 | lr: 0.000431\n"
     ]
    },
    {
     "name": "stderr",
     "output_type": "stream",
     "text": [
      " 46%|████████████████████████████████████▏                                         | 1900/4100 [46:49<55:20,  1.51s/it]"
     ]
    },
    {
     "name": "stdout",
     "output_type": "stream",
     "text": [
      "Epoch: 1 | Step: 1900 | Avg. loss: 0.603 | lr: 0.000427\n"
     ]
    },
    {
     "name": "stderr",
     "output_type": "stream",
     "text": [
      " 49%|██████████████████████████████████████                                        | 1999/4100 [49:17<51:42,  1.48s/it]"
     ]
    },
    {
     "name": "stdout",
     "output_type": "stream",
     "text": [
      "Epoch: 1 | Step: 2000 | Avg. loss: 0.611 | lr: 0.000423\n",
      "Test loss 0.515\n",
      "Saving model with test loss of 0.515\n"
     ]
    },
    {
     "name": "stderr",
     "output_type": "stream",
     "text": [
      " 51%|███████████████████████████████████████▉                                      | 2100/4100 [51:55<50:40,  1.52s/it]"
     ]
    },
    {
     "name": "stdout",
     "output_type": "stream",
     "text": [
      "Epoch: 1 | Step: 2100 | Avg. loss: 0.582 | lr: 0.000419\n"
     ]
    },
    {
     "name": "stderr",
     "output_type": "stream",
     "text": [
      " 54%|█████████████████████████████████████████▊                                    | 2200/4100 [54:25<47:47,  1.51s/it]"
     ]
    },
    {
     "name": "stdout",
     "output_type": "stream",
     "text": [
      "Epoch: 1 | Step: 2200 | Avg. loss: 0.575 | lr: 0.000415\n"
     ]
    },
    {
     "name": "stderr",
     "output_type": "stream",
     "text": [
      " 56%|███████████████████████████████████████████▊                                  | 2300/4100 [56:56<45:28,  1.52s/it]"
     ]
    },
    {
     "name": "stdout",
     "output_type": "stream",
     "text": [
      "Epoch: 1 | Step: 2300 | Avg. loss: 0.570 | lr: 0.000411\n"
     ]
    },
    {
     "name": "stderr",
     "output_type": "stream",
     "text": [
      " 59%|█████████████████████████████████████████████▋                                | 2400/4100 [59:26<42:59,  1.52s/it]"
     ]
    },
    {
     "name": "stdout",
     "output_type": "stream",
     "text": [
      "Epoch: 1 | Step: 2400 | Avg. loss: 0.555 | lr: 0.000407\n"
     ]
    },
    {
     "name": "stderr",
     "output_type": "stream",
     "text": [
      " 61%|██████████████████████████████████████████████▎                             | 2500/4100 [1:01:56<40:10,  1.51s/it]"
     ]
    },
    {
     "name": "stdout",
     "output_type": "stream",
     "text": [
      "Epoch: 1 | Step: 2500 | Avg. loss: 0.534 | lr: 0.000402\n"
     ]
    },
    {
     "name": "stderr",
     "output_type": "stream",
     "text": [
      " 63%|████████████████████████████████████████████████▏                           | 2600/4100 [1:04:26<37:31,  1.50s/it]"
     ]
    },
    {
     "name": "stdout",
     "output_type": "stream",
     "text": [
      "Epoch: 1 | Step: 2600 | Avg. loss: 0.511 | lr: 0.000398\n"
     ]
    },
    {
     "name": "stderr",
     "output_type": "stream",
     "text": [
      " 66%|██████████████████████████████████████████████████                          | 2700/4100 [1:06:56<35:24,  1.52s/it]"
     ]
    },
    {
     "name": "stdout",
     "output_type": "stream",
     "text": [
      "Epoch: 1 | Step: 2700 | Avg. loss: 0.534 | lr: 0.000394\n"
     ]
    },
    {
     "name": "stderr",
     "output_type": "stream",
     "text": [
      " 68%|███████████████████████████████████████████████████▉                        | 2800/4100 [1:09:26<33:00,  1.52s/it]"
     ]
    },
    {
     "name": "stdout",
     "output_type": "stream",
     "text": [
      "Epoch: 1 | Step: 2800 | Avg. loss: 0.505 | lr: 0.000390\n"
     ]
    },
    {
     "name": "stderr",
     "output_type": "stream",
     "text": [
      " 71%|█████████████████████████████████████████████████████▊                      | 2900/4100 [1:11:57<30:25,  1.52s/it]"
     ]
    },
    {
     "name": "stdout",
     "output_type": "stream",
     "text": [
      "Epoch: 1 | Step: 2900 | Avg. loss: 0.518 | lr: 0.000386\n"
     ]
    },
    {
     "name": "stderr",
     "output_type": "stream",
     "text": [
      " 73%|███████████████████████████████████████████████████████▌                    | 2999/4100 [1:14:25<27:13,  1.48s/it]"
     ]
    },
    {
     "name": "stdout",
     "output_type": "stream",
     "text": [
      "Epoch: 1 | Step: 3000 | Avg. loss: 0.513 | lr: 0.000382\n",
      "Test loss 0.430\n",
      "Saving model with test loss of 0.430\n"
     ]
    },
    {
     "name": "stderr",
     "output_type": "stream",
     "text": [
      " 76%|█████████████████████████████████████████████████████████▍                  | 3100/4100 [1:17:02<25:04,  1.50s/it]"
     ]
    },
    {
     "name": "stdout",
     "output_type": "stream",
     "text": [
      "Epoch: 1 | Step: 3100 | Avg. loss: 0.500 | lr: 0.000378\n"
     ]
    },
    {
     "name": "stderr",
     "output_type": "stream",
     "text": [
      " 78%|███████████████████████████████████████████████████████████▎                | 3200/4100 [1:19:32<22:32,  1.50s/it]"
     ]
    },
    {
     "name": "stdout",
     "output_type": "stream",
     "text": [
      "Epoch: 1 | Step: 3200 | Avg. loss: 0.468 | lr: 0.000374\n"
     ]
    },
    {
     "name": "stderr",
     "output_type": "stream",
     "text": [
      " 80%|█████████████████████████████████████████████████████████████▏              | 3300/4100 [1:22:03<20:09,  1.51s/it]"
     ]
    },
    {
     "name": "stdout",
     "output_type": "stream",
     "text": [
      "Epoch: 1 | Step: 3300 | Avg. loss: 0.467 | lr: 0.000370\n"
     ]
    },
    {
     "name": "stderr",
     "output_type": "stream",
     "text": [
      " 83%|███████████████████████████████████████████████████████████████             | 3400/4100 [1:24:33<17:49,  1.53s/it]"
     ]
    },
    {
     "name": "stdout",
     "output_type": "stream",
     "text": [
      "Epoch: 1 | Step: 3400 | Avg. loss: 0.475 | lr: 0.000365\n"
     ]
    },
    {
     "name": "stderr",
     "output_type": "stream",
     "text": [
      " 85%|████████████████████████████████████████████████████████████████▉           | 3500/4100 [1:27:04<15:10,  1.52s/it]"
     ]
    },
    {
     "name": "stdout",
     "output_type": "stream",
     "text": [
      "Epoch: 1 | Step: 3500 | Avg. loss: 0.481 | lr: 0.000361\n"
     ]
    },
    {
     "name": "stderr",
     "output_type": "stream",
     "text": [
      " 88%|██████████████████████████████████████████████████████████████████▋         | 3600/4100 [1:29:34<12:34,  1.51s/it]"
     ]
    },
    {
     "name": "stdout",
     "output_type": "stream",
     "text": [
      "Epoch: 1 | Step: 3600 | Avg. loss: 0.452 | lr: 0.000357\n"
     ]
    },
    {
     "name": "stderr",
     "output_type": "stream",
     "text": [
      " 90%|████████████████████████████████████████████████████████████████████▌       | 3700/4100 [1:32:04<10:08,  1.52s/it]"
     ]
    },
    {
     "name": "stdout",
     "output_type": "stream",
     "text": [
      "Epoch: 1 | Step: 3700 | Avg. loss: 0.445 | lr: 0.000353\n"
     ]
    },
    {
     "name": "stderr",
     "output_type": "stream",
     "text": [
      " 93%|██████████████████████████████████████████████████████████████████████▍     | 3800/4100 [1:34:35<07:35,  1.52s/it]"
     ]
    },
    {
     "name": "stdout",
     "output_type": "stream",
     "text": [
      "Epoch: 1 | Step: 3800 | Avg. loss: 0.443 | lr: 0.000349\n"
     ]
    },
    {
     "name": "stderr",
     "output_type": "stream",
     "text": [
      " 95%|████████████████████████████████████████████████████████████████████████▎   | 3900/4100 [1:37:05<05:02,  1.51s/it]"
     ]
    },
    {
     "name": "stdout",
     "output_type": "stream",
     "text": [
      "Epoch: 1 | Step: 3900 | Avg. loss: 0.455 | lr: 0.000345\n"
     ]
    },
    {
     "name": "stderr",
     "output_type": "stream",
     "text": [
      " 98%|██████████████████████████████████████████████████████████████████████████▏ | 3999/4100 [1:39:34<02:31,  1.50s/it]"
     ]
    },
    {
     "name": "stdout",
     "output_type": "stream",
     "text": [
      "Epoch: 1 | Step: 4000 | Avg. loss: 0.424 | lr: 0.000341\n",
      "Test loss 0.377\n",
      "Saving model with test loss of 0.377\n"
     ]
    },
    {
     "name": "stderr",
     "output_type": "stream",
     "text": [
      "100%|████████████████████████████████████████████████████████████████████████████| 4100/4100 [1:42:12<00:00,  1.50s/it]"
     ]
    },
    {
     "name": "stdout",
     "output_type": "stream",
     "text": [
      "Epoch: 1 | Step: 4100 | Avg. loss: 0.437 | lr: 0.000337\n"
     ]
    },
    {
     "name": "stderr",
     "output_type": "stream",
     "text": [
      "\n",
      "  2%|█▉                                                                           | 100/4100 [02:30<1:41:39,  1.52s/it]"
     ]
    },
    {
     "name": "stdout",
     "output_type": "stream",
     "text": [
      "Epoch: 2 | Step: 100 | Avg. loss: 0.379 | lr: 0.000333\n"
     ]
    },
    {
     "name": "stderr",
     "output_type": "stream",
     "text": [
      "  5%|███▊                                                                         | 200/4100 [04:59<1:38:18,  1.51s/it]"
     ]
    },
    {
     "name": "stdout",
     "output_type": "stream",
     "text": [
      "Epoch: 2 | Step: 200 | Avg. loss: 0.389 | lr: 0.000328\n"
     ]
    },
    {
     "name": "stderr",
     "output_type": "stream",
     "text": [
      "  7%|█████▋                                                                       | 300/4100 [07:30<1:35:59,  1.52s/it]"
     ]
    },
    {
     "name": "stdout",
     "output_type": "stream",
     "text": [
      "Epoch: 2 | Step: 300 | Avg. loss: 0.390 | lr: 0.000324\n"
     ]
    },
    {
     "name": "stderr",
     "output_type": "stream",
     "text": [
      " 10%|███████▌                                                                     | 400/4100 [10:01<1:33:23,  1.51s/it]"
     ]
    },
    {
     "name": "stdout",
     "output_type": "stream",
     "text": [
      "Epoch: 2 | Step: 400 | Avg. loss: 0.391 | lr: 0.000320\n"
     ]
    },
    {
     "name": "stderr",
     "output_type": "stream",
     "text": [
      " 12%|█████████▍                                                                   | 500/4100 [12:31<1:30:54,  1.52s/it]"
     ]
    },
    {
     "name": "stdout",
     "output_type": "stream",
     "text": [
      "Epoch: 2 | Step: 500 | Avg. loss: 0.382 | lr: 0.000316\n"
     ]
    },
    {
     "name": "stderr",
     "output_type": "stream",
     "text": [
      " 15%|███████████▎                                                                 | 600/4100 [15:02<1:29:00,  1.53s/it]"
     ]
    },
    {
     "name": "stdout",
     "output_type": "stream",
     "text": [
      "Epoch: 2 | Step: 600 | Avg. loss: 0.361 | lr: 0.000312\n"
     ]
    },
    {
     "name": "stderr",
     "output_type": "stream",
     "text": [
      " 17%|█████████████▏                                                               | 700/4100 [17:32<1:26:05,  1.52s/it]"
     ]
    },
    {
     "name": "stdout",
     "output_type": "stream",
     "text": [
      "Epoch: 2 | Step: 700 | Avg. loss: 0.390 | lr: 0.000308\n"
     ]
    },
    {
     "name": "stderr",
     "output_type": "stream",
     "text": [
      " 20%|███████████████                                                              | 800/4100 [20:02<1:24:20,  1.53s/it]"
     ]
    },
    {
     "name": "stdout",
     "output_type": "stream",
     "text": [
      "Epoch: 2 | Step: 800 | Avg. loss: 0.384 | lr: 0.000304\n"
     ]
    },
    {
     "name": "stderr",
     "output_type": "stream",
     "text": [
      " 22%|████████████████▉                                                            | 900/4100 [22:32<1:21:19,  1.52s/it]"
     ]
    },
    {
     "name": "stdout",
     "output_type": "stream",
     "text": [
      "Epoch: 2 | Step: 900 | Avg. loss: 0.365 | lr: 0.000300\n"
     ]
    },
    {
     "name": "stderr",
     "output_type": "stream",
     "text": [
      " 24%|██████████████████▊                                                          | 999/4100 [25:01<1:17:03,  1.49s/it]"
     ]
    },
    {
     "name": "stdout",
     "output_type": "stream",
     "text": [
      "Epoch: 2 | Step: 1000 | Avg. loss: 0.379 | lr: 0.000296\n",
      "Test loss 0.325\n",
      "Saving model with test loss of 0.325\n"
     ]
    },
    {
     "name": "stderr",
     "output_type": "stream",
     "text": [
      " 27%|████████████████████▍                                                       | 1100/4100 [27:37<1:15:56,  1.52s/it]"
     ]
    },
    {
     "name": "stdout",
     "output_type": "stream",
     "text": [
      "Epoch: 2 | Step: 1100 | Avg. loss: 0.377 | lr: 0.000292\n"
     ]
    },
    {
     "name": "stderr",
     "output_type": "stream",
     "text": [
      " 29%|██████████████████████▏                                                     | 1200/4100 [30:08<1:13:09,  1.51s/it]"
     ]
    },
    {
     "name": "stdout",
     "output_type": "stream",
     "text": [
      "Epoch: 2 | Step: 1200 | Avg. loss: 0.361 | lr: 0.000287\n"
     ]
    },
    {
     "name": "stderr",
     "output_type": "stream",
     "text": [
      " 32%|████████████████████████                                                    | 1300/4100 [32:38<1:10:27,  1.51s/it]"
     ]
    },
    {
     "name": "stdout",
     "output_type": "stream",
     "text": [
      "Epoch: 2 | Step: 1300 | Avg. loss: 0.346 | lr: 0.000283\n"
     ]
    },
    {
     "name": "stderr",
     "output_type": "stream",
     "text": [
      " 34%|█████████████████████████▉                                                  | 1400/4100 [35:08<1:08:04,  1.51s/it]"
     ]
    },
    {
     "name": "stdout",
     "output_type": "stream",
     "text": [
      "Epoch: 2 | Step: 1400 | Avg. loss: 0.367 | lr: 0.000279\n"
     ]
    },
    {
     "name": "stderr",
     "output_type": "stream",
     "text": [
      " 37%|███████████████████████████▊                                                | 1500/4100 [37:39<1:05:50,  1.52s/it]"
     ]
    },
    {
     "name": "stdout",
     "output_type": "stream",
     "text": [
      "Epoch: 2 | Step: 1500 | Avg. loss: 0.364 | lr: 0.000275\n"
     ]
    },
    {
     "name": "stderr",
     "output_type": "stream",
     "text": [
      " 39%|█████████████████████████████▋                                              | 1600/4100 [40:09<1:03:29,  1.52s/it]"
     ]
    },
    {
     "name": "stdout",
     "output_type": "stream",
     "text": [
      "Epoch: 2 | Step: 1600 | Avg. loss: 0.359 | lr: 0.000271\n"
     ]
    },
    {
     "name": "stderr",
     "output_type": "stream",
     "text": [
      " 41%|███████████████████████████████▌                                            | 1700/4100 [42:40<1:00:40,  1.52s/it]"
     ]
    },
    {
     "name": "stdout",
     "output_type": "stream",
     "text": [
      "Epoch: 2 | Step: 1700 | Avg. loss: 0.349 | lr: 0.000267\n"
     ]
    },
    {
     "name": "stderr",
     "output_type": "stream",
     "text": [
      " 44%|██████████████████████████████████▏                                           | 1800/4100 [45:10<58:27,  1.53s/it]"
     ]
    },
    {
     "name": "stdout",
     "output_type": "stream",
     "text": [
      "Epoch: 2 | Step: 1800 | Avg. loss: 0.975 | lr: 0.000263\n"
     ]
    },
    {
     "name": "stderr",
     "output_type": "stream",
     "text": [
      " 46%|████████████████████████████████████▏                                         | 1900/4100 [47:41<55:48,  1.52s/it]"
     ]
    },
    {
     "name": "stdout",
     "output_type": "stream",
     "text": [
      "Epoch: 2 | Step: 1900 | Avg. loss: 0.411 | lr: 0.000259\n"
     ]
    },
    {
     "name": "stderr",
     "output_type": "stream",
     "text": [
      " 49%|██████████████████████████████████████                                        | 1999/4100 [50:09<52:33,  1.50s/it]"
     ]
    },
    {
     "name": "stdout",
     "output_type": "stream",
     "text": [
      "Epoch: 2 | Step: 2000 | Avg. loss: 0.399 | lr: 0.000255\n"
     ]
    },
    {
     "name": "stderr",
     "output_type": "stream",
     "text": [
      " 49%|█████████████████████████████████████                                       | 2000/4100 [50:14<1:26:59,  2.49s/it]"
     ]
    },
    {
     "name": "stdout",
     "output_type": "stream",
     "text": [
      "Test loss 0.372\n"
     ]
    },
    {
     "name": "stderr",
     "output_type": "stream",
     "text": [
      " 51%|███████████████████████████████████████▉                                      | 2100/4100 [52:44<50:38,  1.52s/it]"
     ]
    },
    {
     "name": "stdout",
     "output_type": "stream",
     "text": [
      "Epoch: 2 | Step: 2100 | Avg. loss: 0.371 | lr: 0.000250\n"
     ]
    },
    {
     "name": "stderr",
     "output_type": "stream",
     "text": [
      " 54%|█████████████████████████████████████████▊                                    | 2200/4100 [55:14<47:32,  1.50s/it]"
     ]
    },
    {
     "name": "stdout",
     "output_type": "stream",
     "text": [
      "Epoch: 2 | Step: 2200 | Avg. loss: 0.352 | lr: 0.000246\n"
     ]
    },
    {
     "name": "stderr",
     "output_type": "stream",
     "text": [
      " 56%|███████████████████████████████████████████▊                                  | 2300/4100 [57:44<45:50,  1.53s/it]"
     ]
    },
    {
     "name": "stdout",
     "output_type": "stream",
     "text": [
      "Epoch: 2 | Step: 2300 | Avg. loss: 0.355 | lr: 0.000242\n"
     ]
    },
    {
     "name": "stderr",
     "output_type": "stream",
     "text": [
      " 59%|████████████████████████████████████████████▍                               | 2400/4100 [1:00:14<42:58,  1.52s/it]"
     ]
    },
    {
     "name": "stdout",
     "output_type": "stream",
     "text": [
      "Epoch: 2 | Step: 2400 | Avg. loss: 0.349 | lr: 0.000238\n"
     ]
    },
    {
     "name": "stderr",
     "output_type": "stream",
     "text": [
      " 61%|██████████████████████████████████████████████▎                             | 2500/4100 [1:02:45<40:55,  1.53s/it]"
     ]
    },
    {
     "name": "stdout",
     "output_type": "stream",
     "text": [
      "Epoch: 2 | Step: 2500 | Avg. loss: 0.349 | lr: 0.000234\n"
     ]
    },
    {
     "name": "stderr",
     "output_type": "stream",
     "text": [
      " 63%|████████████████████████████████████████████████▏                           | 2600/4100 [1:05:15<38:12,  1.53s/it]"
     ]
    },
    {
     "name": "stdout",
     "output_type": "stream",
     "text": [
      "Epoch: 2 | Step: 2600 | Avg. loss: 0.345 | lr: 0.000230\n"
     ]
    },
    {
     "name": "stderr",
     "output_type": "stream",
     "text": [
      " 66%|██████████████████████████████████████████████████                          | 2700/4100 [1:07:45<35:10,  1.51s/it]"
     ]
    },
    {
     "name": "stdout",
     "output_type": "stream",
     "text": [
      "Epoch: 2 | Step: 2700 | Avg. loss: 0.334 | lr: 0.000226\n"
     ]
    },
    {
     "name": "stderr",
     "output_type": "stream",
     "text": [
      " 68%|███████████████████████████████████████████████████▉                        | 2800/4100 [1:10:16<33:12,  1.53s/it]"
     ]
    },
    {
     "name": "stdout",
     "output_type": "stream",
     "text": [
      "Epoch: 2 | Step: 2800 | Avg. loss: 0.333 | lr: 0.000222\n"
     ]
    },
    {
     "name": "stderr",
     "output_type": "stream",
     "text": [
      " 71%|█████████████████████████████████████████████████████▊                      | 2900/4100 [1:12:46<30:26,  1.52s/it]"
     ]
    },
    {
     "name": "stdout",
     "output_type": "stream",
     "text": [
      "Epoch: 2 | Step: 2900 | Avg. loss: 0.333 | lr: 0.000218\n"
     ]
    },
    {
     "name": "stderr",
     "output_type": "stream",
     "text": [
      " 73%|███████████████████████████████████████████████████████▌                    | 2999/4100 [1:15:15<27:11,  1.48s/it]"
     ]
    },
    {
     "name": "stdout",
     "output_type": "stream",
     "text": [
      "Epoch: 2 | Step: 3000 | Avg. loss: 0.321 | lr: 0.000214\n",
      "Test loss 0.272\n",
      "Saving model with test loss of 0.272\n"
     ]
    },
    {
     "name": "stderr",
     "output_type": "stream",
     "text": [
      " 76%|█████████████████████████████████████████████████████████▍                  | 3100/4100 [1:17:52<25:09,  1.51s/it]"
     ]
    },
    {
     "name": "stdout",
     "output_type": "stream",
     "text": [
      "Epoch: 2 | Step: 3100 | Avg. loss: 0.326 | lr: 0.000209\n"
     ]
    },
    {
     "name": "stderr",
     "output_type": "stream",
     "text": [
      " 78%|███████████████████████████████████████████████████████████▎                | 3200/4100 [1:20:22<22:46,  1.52s/it]"
     ]
    },
    {
     "name": "stdout",
     "output_type": "stream",
     "text": [
      "Epoch: 2 | Step: 3200 | Avg. loss: 0.326 | lr: 0.000205\n"
     ]
    },
    {
     "name": "stderr",
     "output_type": "stream",
     "text": [
      " 80%|█████████████████████████████████████████████████████████████▏              | 3300/4100 [1:22:52<20:02,  1.50s/it]"
     ]
    },
    {
     "name": "stdout",
     "output_type": "stream",
     "text": [
      "Epoch: 2 | Step: 3300 | Avg. loss: 0.327 | lr: 0.000201\n"
     ]
    },
    {
     "name": "stderr",
     "output_type": "stream",
     "text": [
      " 83%|███████████████████████████████████████████████████████████████             | 3400/4100 [1:25:23<17:40,  1.51s/it]"
     ]
    },
    {
     "name": "stdout",
     "output_type": "stream",
     "text": [
      "Epoch: 2 | Step: 3400 | Avg. loss: 0.328 | lr: 0.000197\n"
     ]
    },
    {
     "name": "stderr",
     "output_type": "stream",
     "text": [
      " 85%|████████████████████████████████████████████████████████████████▉           | 3500/4100 [1:27:53<15:00,  1.50s/it]"
     ]
    },
    {
     "name": "stdout",
     "output_type": "stream",
     "text": [
      "Epoch: 2 | Step: 3500 | Avg. loss: 0.315 | lr: 0.000193\n"
     ]
    },
    {
     "name": "stderr",
     "output_type": "stream",
     "text": [
      " 88%|██████████████████████████████████████████████████████████████████▋         | 3600/4100 [1:30:23<12:37,  1.51s/it]"
     ]
    },
    {
     "name": "stdout",
     "output_type": "stream",
     "text": [
      "Epoch: 2 | Step: 3600 | Avg. loss: 0.315 | lr: 0.000189\n"
     ]
    },
    {
     "name": "stderr",
     "output_type": "stream",
     "text": [
      " 90%|████████████████████████████████████████████████████████████████████▌       | 3700/4100 [1:32:53<10:07,  1.52s/it]"
     ]
    },
    {
     "name": "stdout",
     "output_type": "stream",
     "text": [
      "Epoch: 2 | Step: 3700 | Avg. loss: 0.312 | lr: 0.000185\n"
     ]
    },
    {
     "name": "stderr",
     "output_type": "stream",
     "text": [
      " 93%|██████████████████████████████████████████████████████████████████████▍     | 3800/4100 [1:35:23<07:36,  1.52s/it]"
     ]
    },
    {
     "name": "stdout",
     "output_type": "stream",
     "text": [
      "Epoch: 2 | Step: 3800 | Avg. loss: 0.305 | lr: 0.000181\n"
     ]
    },
    {
     "name": "stderr",
     "output_type": "stream",
     "text": [
      " 95%|████████████████████████████████████████████████████████████████████████▎   | 3900/4100 [1:37:54<05:04,  1.52s/it]"
     ]
    },
    {
     "name": "stdout",
     "output_type": "stream",
     "text": [
      "Epoch: 2 | Step: 3900 | Avg. loss: 0.305 | lr: 0.000177\n"
     ]
    },
    {
     "name": "stderr",
     "output_type": "stream",
     "text": [
      " 98%|██████████████████████████████████████████████████████████████████████████▏ | 3999/4100 [1:40:22<02:30,  1.49s/it]"
     ]
    },
    {
     "name": "stdout",
     "output_type": "stream",
     "text": [
      "Epoch: 2 | Step: 4000 | Avg. loss: 0.308 | lr: 0.000172\n",
      "Test loss 0.250\n",
      "Saving model with test loss of 0.250\n"
     ]
    },
    {
     "name": "stderr",
     "output_type": "stream",
     "text": [
      "100%|████████████████████████████████████████████████████████████████████████████| 4100/4100 [1:42:59<00:00,  1.51s/it]"
     ]
    },
    {
     "name": "stdout",
     "output_type": "stream",
     "text": [
      "Epoch: 2 | Step: 4100 | Avg. loss: 0.315 | lr: 0.000168\n"
     ]
    },
    {
     "name": "stderr",
     "output_type": "stream",
     "text": [
      "\n",
      "  2%|█▉                                                                           | 100/4100 [02:30<1:41:16,  1.52s/it]"
     ]
    },
    {
     "name": "stdout",
     "output_type": "stream",
     "text": [
      "Epoch: 3 | Step: 100 | Avg. loss: 0.264 | lr: 0.000164\n"
     ]
    },
    {
     "name": "stderr",
     "output_type": "stream",
     "text": [
      "  5%|███▊                                                                         | 200/4100 [05:00<1:38:51,  1.52s/it]"
     ]
    },
    {
     "name": "stdout",
     "output_type": "stream",
     "text": [
      "Epoch: 3 | Step: 200 | Avg. loss: 0.270 | lr: 0.000160\n"
     ]
    },
    {
     "name": "stderr",
     "output_type": "stream",
     "text": [
      "  7%|█████▋                                                                       | 300/4100 [07:30<1:35:41,  1.51s/it]"
     ]
    },
    {
     "name": "stdout",
     "output_type": "stream",
     "text": [
      "Epoch: 3 | Step: 300 | Avg. loss: 0.264 | lr: 0.000156\n"
     ]
    },
    {
     "name": "stderr",
     "output_type": "stream",
     "text": [
      " 10%|███████▌                                                                     | 400/4100 [10:00<1:33:49,  1.52s/it]"
     ]
    },
    {
     "name": "stdout",
     "output_type": "stream",
     "text": [
      "Epoch: 3 | Step: 400 | Avg. loss: 0.256 | lr: 0.000152\n"
     ]
    },
    {
     "name": "stderr",
     "output_type": "stream",
     "text": [
      " 12%|█████████▍                                                                   | 500/4100 [12:30<1:30:02,  1.50s/it]"
     ]
    },
    {
     "name": "stdout",
     "output_type": "stream",
     "text": [
      "Epoch: 3 | Step: 500 | Avg. loss: 0.251 | lr: 0.000148\n"
     ]
    },
    {
     "name": "stderr",
     "output_type": "stream",
     "text": [
      " 15%|███████████▎                                                                 | 600/4100 [15:01<1:27:32,  1.50s/it]"
     ]
    },
    {
     "name": "stdout",
     "output_type": "stream",
     "text": [
      "Epoch: 3 | Step: 600 | Avg. loss: 0.260 | lr: 0.000144\n"
     ]
    },
    {
     "name": "stderr",
     "output_type": "stream",
     "text": [
      " 17%|█████████████▏                                                               | 700/4100 [17:31<1:25:36,  1.51s/it]"
     ]
    },
    {
     "name": "stdout",
     "output_type": "stream",
     "text": [
      "Epoch: 3 | Step: 700 | Avg. loss: 0.259 | lr: 0.000140\n"
     ]
    },
    {
     "name": "stderr",
     "output_type": "stream",
     "text": [
      " 20%|███████████████                                                              | 800/4100 [20:01<1:23:23,  1.52s/it]"
     ]
    },
    {
     "name": "stdout",
     "output_type": "stream",
     "text": [
      "Epoch: 3 | Step: 800 | Avg. loss: 0.260 | lr: 0.000136\n"
     ]
    },
    {
     "name": "stderr",
     "output_type": "stream",
     "text": [
      " 22%|████████████████▉                                                            | 900/4100 [22:32<1:20:37,  1.51s/it]"
     ]
    },
    {
     "name": "stdout",
     "output_type": "stream",
     "text": [
      "Epoch: 3 | Step: 900 | Avg. loss: 0.260 | lr: 0.000131\n"
     ]
    },
    {
     "name": "stderr",
     "output_type": "stream",
     "text": [
      " 24%|██████████████████▊                                                          | 999/4100 [25:01<1:16:50,  1.49s/it]"
     ]
    },
    {
     "name": "stdout",
     "output_type": "stream",
     "text": [
      "Epoch: 3 | Step: 1000 | Avg. loss: 0.264 | lr: 0.000127\n"
     ]
    },
    {
     "name": "stderr",
     "output_type": "stream",
     "text": [
      " 24%|██████████████████▌                                                         | 1000/4100 [25:05<2:07:23,  2.47s/it]"
     ]
    },
    {
     "name": "stdout",
     "output_type": "stream",
     "text": [
      "Test loss 0.266\n"
     ]
    },
    {
     "name": "stderr",
     "output_type": "stream",
     "text": [
      " 27%|████████████████████▍                                                       | 1100/4100 [27:35<1:15:38,  1.51s/it]"
     ]
    },
    {
     "name": "stdout",
     "output_type": "stream",
     "text": [
      "Epoch: 3 | Step: 1100 | Avg. loss: 0.265 | lr: 0.000123\n"
     ]
    },
    {
     "name": "stderr",
     "output_type": "stream",
     "text": [
      " 29%|██████████████████████▏                                                     | 1200/4100 [30:05<1:12:33,  1.50s/it]"
     ]
    },
    {
     "name": "stdout",
     "output_type": "stream",
     "text": [
      "Epoch: 3 | Step: 1200 | Avg. loss: 0.267 | lr: 0.000119\n"
     ]
    },
    {
     "name": "stderr",
     "output_type": "stream",
     "text": [
      " 32%|████████████████████████                                                    | 1300/4100 [32:36<1:09:57,  1.50s/it]"
     ]
    },
    {
     "name": "stdout",
     "output_type": "stream",
     "text": [
      "Epoch: 3 | Step: 1300 | Avg. loss: 0.253 | lr: 0.000115\n"
     ]
    },
    {
     "name": "stderr",
     "output_type": "stream",
     "text": [
      " 34%|█████████████████████████▉                                                  | 1400/4100 [35:06<1:07:58,  1.51s/it]"
     ]
    },
    {
     "name": "stdout",
     "output_type": "stream",
     "text": [
      "Epoch: 3 | Step: 1400 | Avg. loss: 0.246 | lr: 0.000111\n"
     ]
    },
    {
     "name": "stderr",
     "output_type": "stream",
     "text": [
      " 37%|███████████████████████████▊                                                | 1500/4100 [37:36<1:06:20,  1.53s/it]"
     ]
    },
    {
     "name": "stdout",
     "output_type": "stream",
     "text": [
      "Epoch: 3 | Step: 1500 | Avg. loss: 0.248 | lr: 0.000107\n"
     ]
    },
    {
     "name": "stderr",
     "output_type": "stream",
     "text": [
      " 39%|█████████████████████████████▋                                              | 1600/4100 [40:06<1:03:53,  1.53s/it]"
     ]
    },
    {
     "name": "stdout",
     "output_type": "stream",
     "text": [
      "Epoch: 3 | Step: 1600 | Avg. loss: 0.248 | lr: 0.000103\n"
     ]
    },
    {
     "name": "stderr",
     "output_type": "stream",
     "text": [
      " 41%|███████████████████████████████▌                                            | 1700/4100 [42:37<1:01:06,  1.53s/it]"
     ]
    },
    {
     "name": "stdout",
     "output_type": "stream",
     "text": [
      "Epoch: 3 | Step: 1700 | Avg. loss: 0.247 | lr: 0.000099\n"
     ]
    },
    {
     "name": "stderr",
     "output_type": "stream",
     "text": [
      " 44%|██████████████████████████████████▏                                           | 1800/4100 [45:07<57:47,  1.51s/it]"
     ]
    },
    {
     "name": "stdout",
     "output_type": "stream",
     "text": [
      "Epoch: 3 | Step: 1800 | Avg. loss: 0.248 | lr: 0.000094\n"
     ]
    },
    {
     "name": "stderr",
     "output_type": "stream",
     "text": [
      " 46%|████████████████████████████████████▏                                         | 1900/4100 [47:38<58:05,  1.58s/it]"
     ]
    },
    {
     "name": "stdout",
     "output_type": "stream",
     "text": [
      "Epoch: 3 | Step: 1900 | Avg. loss: 0.247 | lr: 0.000090\n"
     ]
    },
    {
     "name": "stderr",
     "output_type": "stream",
     "text": [
      " 49%|██████████████████████████████████████                                        | 1999/4100 [50:08<51:58,  1.48s/it]"
     ]
    },
    {
     "name": "stdout",
     "output_type": "stream",
     "text": [
      "Epoch: 3 | Step: 2000 | Avg. loss: 0.241 | lr: 0.000086\n",
      "Test loss 0.241\n",
      "Saving model with test loss of 0.241\n"
     ]
    },
    {
     "name": "stderr",
     "output_type": "stream",
     "text": [
      " 51%|███████████████████████████████████████▉                                      | 2100/4100 [52:46<51:32,  1.55s/it]"
     ]
    },
    {
     "name": "stdout",
     "output_type": "stream",
     "text": [
      "Epoch: 3 | Step: 2100 | Avg. loss: 0.241 | lr: 0.000082\n"
     ]
    },
    {
     "name": "stderr",
     "output_type": "stream",
     "text": [
      " 54%|█████████████████████████████████████████▊                                    | 2200/4100 [55:17<48:00,  1.52s/it]"
     ]
    },
    {
     "name": "stdout",
     "output_type": "stream",
     "text": [
      "Epoch: 3 | Step: 2200 | Avg. loss: 0.249 | lr: 0.000078\n"
     ]
    },
    {
     "name": "stderr",
     "output_type": "stream",
     "text": [
      " 56%|███████████████████████████████████████████▊                                  | 2300/4100 [57:50<45:31,  1.52s/it]"
     ]
    },
    {
     "name": "stdout",
     "output_type": "stream",
     "text": [
      "Epoch: 3 | Step: 2300 | Avg. loss: 0.238 | lr: 0.000074\n"
     ]
    },
    {
     "name": "stderr",
     "output_type": "stream",
     "text": [
      " 59%|████████████████████████████████████████████▍                               | 2400/4100 [1:00:20<43:05,  1.52s/it]"
     ]
    },
    {
     "name": "stdout",
     "output_type": "stream",
     "text": [
      "Epoch: 3 | Step: 2400 | Avg. loss: 0.233 | lr: 0.000070\n"
     ]
    },
    {
     "name": "stderr",
     "output_type": "stream",
     "text": [
      " 61%|██████████████████████████████████████████████▎                             | 2500/4100 [1:02:50<40:47,  1.53s/it]"
     ]
    },
    {
     "name": "stdout",
     "output_type": "stream",
     "text": [
      "Epoch: 3 | Step: 2500 | Avg. loss: 0.231 | lr: 0.000066\n"
     ]
    },
    {
     "name": "stderr",
     "output_type": "stream",
     "text": [
      " 63%|████████████████████████████████████████████████▏                           | 2600/4100 [1:05:21<37:50,  1.51s/it]"
     ]
    },
    {
     "name": "stdout",
     "output_type": "stream",
     "text": [
      "Epoch: 3 | Step: 2600 | Avg. loss: 0.238 | lr: 0.000062\n"
     ]
    },
    {
     "name": "stderr",
     "output_type": "stream",
     "text": [
      " 66%|██████████████████████████████████████████████████                          | 2700/4100 [1:07:51<35:20,  1.51s/it]"
     ]
    },
    {
     "name": "stdout",
     "output_type": "stream",
     "text": [
      "Epoch: 3 | Step: 2700 | Avg. loss: 0.249 | lr: 0.000057\n"
     ]
    },
    {
     "name": "stderr",
     "output_type": "stream",
     "text": [
      " 68%|███████████████████████████████████████████████████▉                        | 2800/4100 [1:10:21<32:59,  1.52s/it]"
     ]
    },
    {
     "name": "stdout",
     "output_type": "stream",
     "text": [
      "Epoch: 3 | Step: 2800 | Avg. loss: 0.235 | lr: 0.000053\n"
     ]
    },
    {
     "name": "stderr",
     "output_type": "stream",
     "text": [
      " 71%|█████████████████████████████████████████████████████▊                      | 2900/4100 [1:12:52<30:20,  1.52s/it]"
     ]
    },
    {
     "name": "stdout",
     "output_type": "stream",
     "text": [
      "Epoch: 3 | Step: 2900 | Avg. loss: 0.236 | lr: 0.000049\n"
     ]
    },
    {
     "name": "stderr",
     "output_type": "stream",
     "text": [
      " 73%|███████████████████████████████████████████████████████▌                    | 2999/4100 [1:15:21<27:39,  1.51s/it]"
     ]
    },
    {
     "name": "stdout",
     "output_type": "stream",
     "text": [
      "Epoch: 3 | Step: 3000 | Avg. loss: 0.240 | lr: 0.000045\n",
      "Test loss 0.240\n",
      "Saving model with test loss of 0.240\n"
     ]
    },
    {
     "name": "stderr",
     "output_type": "stream",
     "text": [
      " 76%|█████████████████████████████████████████████████████████▍                  | 3100/4100 [1:17:58<25:10,  1.51s/it]"
     ]
    },
    {
     "name": "stdout",
     "output_type": "stream",
     "text": [
      "Epoch: 3 | Step: 3100 | Avg. loss: 0.235 | lr: 0.000041\n"
     ]
    },
    {
     "name": "stderr",
     "output_type": "stream",
     "text": [
      " 78%|███████████████████████████████████████████████████████████▎                | 3200/4100 [1:20:28<23:02,  1.54s/it]"
     ]
    },
    {
     "name": "stdout",
     "output_type": "stream",
     "text": [
      "Epoch: 3 | Step: 3200 | Avg. loss: 0.219 | lr: 0.000037\n"
     ]
    },
    {
     "name": "stderr",
     "output_type": "stream",
     "text": [
      " 80%|█████████████████████████████████████████████████████████████▏              | 3300/4100 [1:22:59<20:21,  1.53s/it]"
     ]
    },
    {
     "name": "stdout",
     "output_type": "stream",
     "text": [
      "Epoch: 3 | Step: 3300 | Avg. loss: 0.233 | lr: 0.000033\n"
     ]
    },
    {
     "name": "stderr",
     "output_type": "stream",
     "text": [
      " 83%|███████████████████████████████████████████████████████████████             | 3400/4100 [1:25:29<17:41,  1.52s/it]"
     ]
    },
    {
     "name": "stdout",
     "output_type": "stream",
     "text": [
      "Epoch: 3 | Step: 3400 | Avg. loss: 0.238 | lr: 0.000029\n"
     ]
    },
    {
     "name": "stderr",
     "output_type": "stream",
     "text": [
      " 85%|████████████████████████████████████████████████████████████████▉           | 3500/4100 [1:27:59<15:10,  1.52s/it]"
     ]
    },
    {
     "name": "stdout",
     "output_type": "stream",
     "text": [
      "Epoch: 3 | Step: 3500 | Avg. loss: 0.225 | lr: 0.000025\n"
     ]
    },
    {
     "name": "stderr",
     "output_type": "stream",
     "text": [
      " 88%|██████████████████████████████████████████████████████████████████▋         | 3600/4100 [1:30:29<12:38,  1.52s/it]"
     ]
    },
    {
     "name": "stdout",
     "output_type": "stream",
     "text": [
      "Epoch: 3 | Step: 3600 | Avg. loss: 0.232 | lr: 0.000021\n"
     ]
    },
    {
     "name": "stderr",
     "output_type": "stream",
     "text": [
      " 90%|████████████████████████████████████████████████████████████████████▌       | 3700/4100 [1:32:59<10:07,  1.52s/it]"
     ]
    },
    {
     "name": "stdout",
     "output_type": "stream",
     "text": [
      "Epoch: 3 | Step: 3700 | Avg. loss: 0.222 | lr: 0.000016\n"
     ]
    },
    {
     "name": "stderr",
     "output_type": "stream",
     "text": [
      " 93%|██████████████████████████████████████████████████████████████████████▍     | 3800/4100 [1:35:30<07:35,  1.52s/it]"
     ]
    },
    {
     "name": "stdout",
     "output_type": "stream",
     "text": [
      "Epoch: 3 | Step: 3800 | Avg. loss: 0.226 | lr: 0.000012\n"
     ]
    },
    {
     "name": "stderr",
     "output_type": "stream",
     "text": [
      " 95%|████████████████████████████████████████████████████████████████████████▎   | 3900/4100 [1:38:00<05:05,  1.53s/it]"
     ]
    },
    {
     "name": "stdout",
     "output_type": "stream",
     "text": [
      "Epoch: 3 | Step: 3900 | Avg. loss: 0.229 | lr: 0.000008\n"
     ]
    },
    {
     "name": "stderr",
     "output_type": "stream",
     "text": [
      " 98%|██████████████████████████████████████████████████████████████████████████▏ | 3999/4100 [1:40:29<02:30,  1.49s/it]"
     ]
    },
    {
     "name": "stdout",
     "output_type": "stream",
     "text": [
      "Epoch: 3 | Step: 4000 | Avg. loss: 0.229 | lr: 0.000004\n"
     ]
    },
    {
     "name": "stderr",
     "output_type": "stream",
     "text": [
      " 98%|██████████████████████████████████████████████████████████████████████████▏ | 4000/4100 [1:40:33<04:07,  2.48s/it]"
     ]
    },
    {
     "name": "stdout",
     "output_type": "stream",
     "text": [
      "Test loss 0.252\n"
     ]
    },
    {
     "name": "stderr",
     "output_type": "stream",
     "text": [
      "100%|████████████████████████████████████████████████████████████████████████████| 4100/4100 [1:43:03<00:00,  1.51s/it]"
     ]
    },
    {
     "name": "stdout",
     "output_type": "stream",
     "text": [
      "Epoch: 3 | Step: 4100 | Avg. loss: 0.225 | lr: 0.000000\n"
     ]
    },
    {
     "name": "stderr",
     "output_type": "stream",
     "text": [
      "\n"
     ]
    }
   ],
   "source": [
    "model_path = r'd:\\pyproj\\models\\mt5\\model.safetensors'\n",
    "for epoch_idx in range(n_epochs):\n",
    "    data_generator = get_data(train_dataset, LANG_TOKEN_MAPPING, tokenizer, batch_size)\n",
    "\n",
    "    for batch_idx, (input_batch, label_batch) in tqdm(enumerate(data_generator), total=n_batches):\n",
    "        optimizer.zero_grad()\n",
    "        \n",
    "\n",
    "        model_out = model.forward(\n",
    "            input_ids = input_batch,\n",
    "            labels = label_batch)\n",
    "\n",
    "        loss = model_out.loss\n",
    "        losses.append(loss.item())\n",
    "    \n",
    "        loss.backward()\n",
    "\n",
    "        optimizer.step()\n",
    "        scheduler.step()\n",
    "\n",
    "        # Print training update info\n",
    "        if (batch_idx + 1) % print_freq == 0:\n",
    "            avg_loss = np.mean(losses[-print_freq:])\n",
    "            print('Epoch: {} | Step: {} | Avg. loss: {:.3f} | lr: {:.6f}'.format(\n",
    "              epoch_idx+1, batch_idx+1, avg_loss, scheduler.get_last_lr()[0]))\n",
    "\n",
    "        if (batch_idx + 1) % checkpoint_freq == 0:\n",
    "            test_loss = eval_model(model, test_dataset)\n",
    "            test_losses.append(test_loss)\n",
    "            print('Test loss {:.3f}'.format(test_loss))\n",
    "            if best_test_loss > test_loss:\n",
    "                print('Saving model with test loss of {:.3f}'.format(test_loss))\n",
    "                torch.save(model.state_dict(), model_path)\n",
    "                best_test_loss = test_loss\n",
    "\n",
    "    torch.save(model.state_dict(), model_path)"
   ]
  },
  {
   "cell_type": "code",
   "execution_count": 2,
   "id": "f7d0771b",
   "metadata": {},
   "outputs": [
    {
     "name": "stderr",
     "output_type": "stream",
     "text": [
      "You set `add_prefix_space`. The tokenizer needs to be converted from the slow tokenizers\n",
      "C:\\Users\\ezimo\\AppData\\Roaming\\Python\\Python311\\site-packages\\transformers\\convert_slow_tokenizer.py:560: UserWarning: The sentencepiece tokenizer that you are converting to a fast tokenizer uses the byte fallback option which is not implemented in the fast tokenizers. In practice this means that the fast version of the tokenizer can produce unknown tokens whereas the sentencepiece version would have converted these unknown tokens into a sequence of byte tokens matching the original piece of text.\n",
      "  warnings.warn(\n"
     ]
    }
   ],
   "source": [
    "model_path = \"d:\\\\pyproj\\\\models\\\\mt5\\\\model\"\n",
    "tokenizer_path = 'd:\\\\pyproj\\\\models\\\\mt5\\\\tokenizer'\n",
    "max_seq_len = 128\n",
    "\n",
    "model = MT5ForConditionalGeneration.from_pretrained(model_path)\n",
    "tokenizer = AutoTokenizer.from_pretrained(tokenizer_path)\n",
    "\n",
    "LANG_TOKEN_MAPPING = {\n",
    "    'ru': '<ru>',\n",
    "    'mn': '<mn>'\n",
    "}\n",
    "\n",
    "special_tokens_dict = {'additional_special_tokens': list(LANG_TOKEN_MAPPING.values())}\n",
    "\n",
    "tokenizer.add_special_tokens(special_tokens_dict)\n",
    "\n",
    "model.resize_token_embeddings(len(tokenizer))\n",
    "\n",
    "\n",
    "\n",
    "model.load_state_dict(torch.load(r'd:\\pyproj\\models\\mt5\\model_.safetensors'))\n",
    "model = model.cuda()"
   ]
  },
  {
   "cell_type": "code",
   "execution_count": 5,
   "id": "e98a0401",
   "metadata": {},
   "outputs": [
    {
     "data": {
      "text/plain": [
       "82920"
      ]
     },
     "execution_count": 5,
     "metadata": {},
     "output_type": "execute_result"
    }
   ],
   "source": [
    "\n",
    "df_total = pd.read_csv(r'd:\\pyproj\\models\\mt5\\mn_ru.csv')\n",
    "df_total.head()\n",
    "dataset = []\n",
    "\n",
    "for i in range(len(df_total)):\n",
    "    dataset.append({'mn': df_total.loc[i]['mn'], 'ru': df_total.loc[i]['ru']})\n",
    "len(dataset)\n",
    "# train_dataset = dataset[:32600]\n",
    "# test_dataset = dataset[32600:32900]"
   ]
  },
  {
   "cell_type": "code",
   "execution_count": 6,
   "id": "220032f4",
   "metadata": {},
   "outputs": [],
   "source": [
    "train_dataset = dataset[:82000]\n",
    "test_dataset = dataset[82000:]"
   ]
  },
  {
   "cell_type": "code",
   "execution_count": 7,
   "id": "839949eb-cf41-4528-b32c-d81c65ac97c4",
   "metadata": {},
   "outputs": [
    {
     "data": {
      "text/plain": [
       "920"
      ]
     },
     "execution_count": 7,
     "metadata": {},
     "output_type": "execute_result"
    }
   ],
   "source": [
    "len(test_dataset)"
   ]
  },
  {
   "cell_type": "code",
   "execution_count": 10,
   "id": "c2b0e1a7",
   "metadata": {},
   "outputs": [
    {
     "data": {
      "text/plain": [
       "{'mn': 'Удахгүй бид чамайг шоронд хийж чадна.',\n",
       " 'ru': 'Скоро мы сможем посадить вас в тюрьму. '}"
      ]
     },
     "execution_count": 10,
     "metadata": {},
     "output_type": "execute_result"
    }
   ],
   "source": [
    "k = random.randint(0, 920)\n",
    "test_dataset[k]"
   ]
  },
  {
   "cell_type": "code",
   "execution_count": 13,
   "id": "ab8d9ce0",
   "metadata": {},
   "outputs": [
    {
     "name": "stdout",
     "output_type": "stream",
     "text": [
      "274\n",
      "{'mn': 'Би түлхүүрээ алдсан.', 'ru': 'Я свой ключ потерял. '}\n",
      "Truncated input text: <ru> Би түлхүүрээ алдсан.</s><pad><pad><pad><pad><pad><pad><pad><pad><pad><pad><pad><pad><pad><pad><pad><pad><pad><pad><pad><pad><pad><pad><pad><pad><pad><pad><pad><pad><pad><pad><pad><pad><pad><pad><pad><pad><pad><pad><pad><pad><pad><pad><pad><pad><pad><pad><pad><pad><pad><pad><pad><pad><pad><pad><pad><pad><pad><pad><pad><pad><pad><pad><pad><pad><pad><pad><pad><pad><pad><pad><pad><pad><pad><pad><pad><pad><pad><pad><pad><pad><pad><pad><pad><pad><pad><pad><pad><pad><pad><pad><pad><pad><pad><pad><pad><pad><pad><pad><pad><pad><pad><pad><pad><pad><pad><pad><pad><pad><pad><pad><pad><pad><pad><pad><pad><pad><pad><pad><pad>\n"
     ]
    }
   ],
   "source": [
    "max_seq_len = 128\n",
    "k = random.randint(0, 520)\n",
    "test_sentence = test_dataset[k]['mn']\n",
    "print(k)\n",
    "# print('Raw input text:', test_sentence)\n",
    "\n",
    "input_ids = encode_input_str(\n",
    "    text = test_sentence,\n",
    "    target_lang = 'ru',\n",
    "    tokenizer = tokenizer,\n",
    "    seq_len = max_seq_len,\n",
    "    lang_token_map = LANG_TOKEN_MAPPING)\n",
    "\n",
    "input_ids = input_ids.unsqueeze(0).cuda()\n",
    "\n",
    "print(test_dataset[k])\n",
    "print('Truncated input text:', tokenizer.convert_tokens_to_string(\n",
    "    tokenizer.convert_ids_to_tokens(input_ids[0])))"
   ]
  },
  {
   "cell_type": "code",
   "execution_count": 14,
   "id": "371e8998",
   "metadata": {},
   "outputs": [
    {
     "name": "stderr",
     "output_type": "stream",
     "text": [
      "C:\\Users\\ezimo\\AppData\\Roaming\\Python\\Python311\\site-packages\\transformers\\generation\\utils.py:1168: UserWarning: Using the model-agnostic default `max_length` (=20) to control the generation length. We recommend setting `max_new_tokens` to control the maximum length of the generation.\n",
      "  warnings.warn(\n"
     ]
    },
    {
     "name": "stdout",
     "output_type": "stream",
     "text": [
      "Яблоко, которое я потерял.\n",
      "Яблоко, которое мы потеряли.\n",
      "Яблоко, которое я потерял, сломано.\n"
     ]
    }
   ],
   "source": [
    "output_tokens = model.generate(input_ids, num_beams=10, num_return_sequences=3)\n",
    "\n",
    "# print(output_tokens)\n",
    "\n",
    "for token_set in output_tokens:\n",
    "    print(tokenizer.decode(token_set, skip_special_tokens=True))"
   ]
  },
  {
   "cell_type": "code",
   "execution_count": 15,
   "id": "15421a7b",
   "metadata": {},
   "outputs": [],
   "source": [
    "def translate(text, lang_from, lang_to):\n",
    "    # test_sentence = test_dataset[16][lang_from]\n",
    "    # print('Raw input text:', test_sentence)\n",
    "\n",
    "    input_ids = encode_input_str(\n",
    "      text = text,\n",
    "      target_lang = lang_to,\n",
    "      tokenizer = tokenizer,\n",
    "        seq_len=128,\n",
    "      # seq_len = model.config.max_length,\n",
    "      lang_token_map = LANG_TOKEN_MAPPING)\n",
    "\n",
    "    input_ids = input_ids.unsqueeze(0).cuda()\n",
    "    # res = tokenizer.convert_tokens_to_string(tokenizer.convert_ids_to_tokens(input_ids[0]))\n",
    "\n",
    "    output_tokens = model.generate(input_ids, num_beams=10, num_return_sequences=1)\n",
    "\n",
    "    res = tokenizer.decode(output_tokens[0], skip_special_tokens=True)\n",
    "\n",
    "    return res\n",
    "\n",
    "def translate_to_mogolian(text):\n",
    "    return translate(text, 'ru', 'mn')\n",
    "\n",
    "def translate_to_russian(text):\n",
    "    return translate(text, 'mn', 'ru')"
   ]
  },
  {
   "cell_type": "code",
   "execution_count": 27,
   "id": "28d698ef",
   "metadata": {},
   "outputs": [
    {
     "name": "stdout",
     "output_type": "stream",
     "text": [
      "{'mn': 'Тэд нохой, муур шиг тулалддаг.', 'ru': 'Они цапаются как кошка с собакой. '}\n"
     ]
    },
    {
     "data": {
      "text/plain": [
       "'Они сталкиваются с собакой как с котом.'"
      ]
     },
     "execution_count": 27,
     "metadata": {},
     "output_type": "execute_result"
    }
   ],
   "source": [
    "k = random.randint(0, 920)\n",
    "print(test_dataset[k])\n",
    "translate_to_russian(test_dataset[k]['mn'])"
   ]
  },
  {
   "cell_type": "code",
   "execution_count": 17,
   "id": "10b10e62",
   "metadata": {},
   "outputs": [
    {
     "data": {
      "text/plain": [
       "'Лёд полезен для здоровья. Человек состоит из нескольких м'"
      ]
     },
     "execution_count": 17,
     "metadata": {},
     "output_type": "execute_result"
    }
   ],
   "source": [
    "translate_to_russian('Усанд сэлэх нь таны эрүүл мэндэд тустай. Хүний бие хэдэн тэрбум жижиг эсээс бүрддэг.')"
   ]
  },
  {
   "cell_type": "code",
   "execution_count": null,
   "id": "eae612b3",
   "metadata": {},
   "outputs": [],
   "source": []
  },
  {
   "cell_type": "code",
   "execution_count": null,
   "id": "cbc58432",
   "metadata": {},
   "outputs": [],
   "source": []
  },
  {
   "cell_type": "code",
   "execution_count": null,
   "id": "243427a7",
   "metadata": {},
   "outputs": [],
   "source": []
  },
  {
   "cell_type": "code",
   "execution_count": null,
   "id": "86a618c7",
   "metadata": {},
   "outputs": [],
   "source": []
  },
  {
   "cell_type": "code",
   "execution_count": null,
   "id": "e4f24796",
   "metadata": {},
   "outputs": [],
   "source": []
  },
  {
   "cell_type": "code",
   "execution_count": null,
   "id": "9e5d73a2",
   "metadata": {},
   "outputs": [],
   "source": []
  },
  {
   "cell_type": "code",
   "execution_count": null,
   "id": "9d903887",
   "metadata": {},
   "outputs": [],
   "source": []
  },
  {
   "cell_type": "code",
   "execution_count": null,
   "id": "971d4953",
   "metadata": {},
   "outputs": [],
   "source": []
  },
  {
   "cell_type": "code",
   "execution_count": null,
   "id": "2926cdc9",
   "metadata": {},
   "outputs": [],
   "source": []
  },
  {
   "cell_type": "code",
   "execution_count": null,
   "id": "a0cbbe5a",
   "metadata": {},
   "outputs": [],
   "source": []
  },
  {
   "cell_type": "code",
   "execution_count": null,
   "id": "9c2a3a0d",
   "metadata": {},
   "outputs": [],
   "source": []
  }
 ],
 "metadata": {
  "kernelspec": {
   "display_name": "Python 3 (ipykernel)",
   "language": "python",
   "name": "python3"
  },
  "language_info": {
   "codemirror_mode": {
    "name": "ipython",
    "version": 3
   },
   "file_extension": ".py",
   "mimetype": "text/x-python",
   "name": "python",
   "nbconvert_exporter": "python",
   "pygments_lexer": "ipython3",
   "version": "3.11.7"
  }
 },
 "nbformat": 4,
 "nbformat_minor": 5
}
